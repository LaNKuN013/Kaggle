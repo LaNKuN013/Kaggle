{
 "cells": [
  {
   "cell_type": "markdown",
   "id": "3cdc7a1f",
   "metadata": {
    "id": "3cdc7a1f",
    "papermill": {
     "duration": 0.00211,
     "end_time": "2025-10-16T14:02:40.607405",
     "exception": false,
     "start_time": "2025-10-16T14:02:40.605295",
     "status": "completed"
    },
    "tags": []
   },
   "source": [
    "# VAR Forecasting for Multiple Datasets (with Extended Metrics)\n",
    "Includes MSE (Test Loss), MAE, Best Validation Loss, and Best Test Loss.\n"
   ]
  },
  {
   "cell_type": "code",
   "execution_count": 1,
   "id": "4e0a63ee",
   "metadata": {
    "execution": {
     "iopub.execute_input": "2025-10-16T14:02:40.613785Z",
     "iopub.status.busy": "2025-10-16T14:02:40.613378Z",
     "iopub.status.idle": "2025-10-16T14:02:45.637833Z",
     "shell.execute_reply": "2025-10-16T14:02:45.636731Z"
    },
    "id": "4e0a63ee",
    "papermill": {
     "duration": 5.029,
     "end_time": "2025-10-16T14:02:45.639667",
     "exception": false,
     "start_time": "2025-10-16T14:02:40.610667",
     "status": "completed"
    },
    "tags": []
   },
   "outputs": [],
   "source": [
    "\n",
    "import pandas as pd\n",
    "import numpy as np\n",
    "from statsmodels.tsa.api import VAR\n",
    "from sklearn.metrics import mean_squared_error, mean_absolute_error\n",
    "from scipy.stats import zscore\n",
    "\n",
    "\n",
    "def run_var_model_extended(df, forecast_len, maxlags=15):\n",
    "    df = df.dropna().select_dtypes(include=[np.number])\n",
    "    df = df.apply(zscore)  # Standardize features\n",
    "    if len(df) <= forecast_len + maxlags:\n",
    "        raise ValueError(\"Not enough data for VAR with given forecast_len.\")\n",
    "    model = VAR(df)\n",
    "    results = model.fit(maxlags=maxlags, ic='aic')\n",
    "    lag_order = results.k_ar\n",
    "    input_data = df.values[-lag_order:]\n",
    "    forecast = results.forecast(input_data, steps=forecast_len)\n",
    "\n",
    "    val_data = df.values[-forecast_len*2:-forecast_len]\n",
    "    pred_val = results.forecast(df.values[-forecast_len*2 - lag_order:-forecast_len].reshape(-1, df.shape[1]), steps=forecast_len)\n",
    "    best_vali_loss = mean_squared_error(val_data, pred_val)\n",
    "\n",
    "    true_vals = df.values[-forecast_len:]\n",
    "    best_test_loss = mean_squared_error(true_vals, forecast)\n",
    "    mae = mean_absolute_error(true_vals, forecast)\n",
    "\n",
    "    return forecast, best_test_loss, mae, best_vali_loss"
   ]
  },
  {
   "cell_type": "code",
   "execution_count": null,
   "id": "c197c091",
   "metadata": {
    "id": "c197c091",
    "papermill": {
     "duration": 0.001333,
     "end_time": "2025-10-16T14:02:45.642982",
     "exception": false,
     "start_time": "2025-10-16T14:02:45.641649",
     "status": "completed"
    },
    "tags": []
   },
   "outputs": [],
   "source": [
    "\n"
   ]
  },
  {
   "cell_type": "code",
   "execution_count": null,
   "id": "6149e2d7",
   "metadata": {
    "colab": {
     "base_uri": "https://localhost:8080/"
    },
    "id": "6149e2d7",
    "outputId": "e06c4412-24ec-4731-9a0f-9f8bae236b4d",
    "papermill": {
     "duration": 0.001377,
     "end_time": "2025-10-16T14:02:45.645904",
     "exception": false,
     "start_time": "2025-10-16T14:02:45.644527",
     "status": "completed"
    },
    "tags": []
   },
   "outputs": [],
   "source": []
  },
  {
   "cell_type": "code",
   "execution_count": null,
   "id": "a1228dec",
   "metadata": {
    "id": "a1228dec",
    "papermill": {
     "duration": 0.001227,
     "end_time": "2025-10-16T14:02:45.648546",
     "exception": false,
     "start_time": "2025-10-16T14:02:45.647319",
     "status": "completed"
    },
    "tags": []
   },
   "outputs": [],
   "source": []
  }
 ],
 "metadata": {
  "colab": {
   "machine_shape": "hm",
   "provenance": []
  },
  "kernelspec": {
   "display_name": "Python 3",
   "name": "python3"
  },
  "language_info": {
   "codemirror_mode": {
    "name": "ipython",
    "version": 3
   },
   "file_extension": ".py",
   "mimetype": "text/x-python",
   "name": "python",
   "nbconvert_exporter": "python",
   "pygments_lexer": "ipython3",
   "version": "3.11.13"
  },
  "papermill": {
   "default_parameters": {},
   "duration": 10.892771,
   "end_time": "2025-10-16T14:02:46.372036",
   "environment_variables": {},
   "exception": null,
   "input_path": "__notebook__.ipynb",
   "output_path": "__notebook__.ipynb",
   "parameters": {},
   "start_time": "2025-10-16T14:02:35.479265",
   "version": "2.6.0"
  }
 },
 "nbformat": 4,
 "nbformat_minor": 5
}
